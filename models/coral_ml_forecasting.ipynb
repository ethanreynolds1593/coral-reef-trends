{
 "cells": [
  {
   "cell_type": "code",
   "execution_count": 16,
   "id": "ba327cb1",
   "metadata": {},
   "outputs": [
    {
     "name": "stdout",
     "output_type": "stream",
     "text": [
      "📊 Modeling and plotting: Stony_coral\n"
     ]
    },
    {
     "name": "stderr",
     "output_type": "stream",
     "text": [
      "c:\\Users\\Elite\\Documents\\Ocean\\Conch Republic Coral Quest\\coral-reef-trends\\virtual_env\\Lib\\site-packages\\sklearn\\utils\\validation.py:2739: UserWarning: X does not have valid feature names, but RandomForestRegressor was fitted with feature names\n",
      "  warnings.warn(\n",
      "c:\\Users\\Elite\\Documents\\Ocean\\Conch Republic Coral Quest\\coral-reef-trends\\virtual_env\\Lib\\site-packages\\sklearn\\utils\\validation.py:2739: UserWarning: X does not have valid feature names, but RandomForestRegressor was fitted with feature names\n",
      "  warnings.warn(\n",
      "c:\\Users\\Elite\\Documents\\Ocean\\Conch Republic Coral Quest\\coral-reef-trends\\virtual_env\\Lib\\site-packages\\sklearn\\utils\\validation.py:2739: UserWarning: X does not have valid feature names, but RandomForestRegressor was fitted with feature names\n",
      "  warnings.warn(\n",
      "c:\\Users\\Elite\\Documents\\Ocean\\Conch Republic Coral Quest\\coral-reef-trends\\virtual_env\\Lib\\site-packages\\sklearn\\utils\\validation.py:2739: UserWarning: X does not have valid feature names, but RandomForestRegressor was fitted with feature names\n",
      "  warnings.warn(\n",
      "c:\\Users\\Elite\\Documents\\Ocean\\Conch Republic Coral Quest\\coral-reef-trends\\virtual_env\\Lib\\site-packages\\sklearn\\utils\\validation.py:2739: UserWarning: X does not have valid feature names, but RandomForestRegressor was fitted with feature names\n",
      "  warnings.warn(\n",
      "C:\\Users\\Elite\\AppData\\Local\\Temp\\ipykernel_4848\\1010118823.py:82: FutureWarning: 'Y' is deprecated and will be removed in a future version, please use 'YE' instead.\n",
      "  future_dates = pd.date_range(start=df_mean['Date'].iloc[-1], periods=6, freq='Y')[1:]\n"
     ]
    },
    {
     "name": "stdout",
     "output_type": "stream",
     "text": [
      "📊 Modeling and plotting: Macroalgae\n"
     ]
    },
    {
     "name": "stderr",
     "output_type": "stream",
     "text": [
      "c:\\Users\\Elite\\Documents\\Ocean\\Conch Republic Coral Quest\\coral-reef-trends\\virtual_env\\Lib\\site-packages\\sklearn\\utils\\validation.py:2739: UserWarning: X does not have valid feature names, but RandomForestRegressor was fitted with feature names\n",
      "  warnings.warn(\n",
      "c:\\Users\\Elite\\Documents\\Ocean\\Conch Republic Coral Quest\\coral-reef-trends\\virtual_env\\Lib\\site-packages\\sklearn\\utils\\validation.py:2739: UserWarning: X does not have valid feature names, but RandomForestRegressor was fitted with feature names\n",
      "  warnings.warn(\n",
      "c:\\Users\\Elite\\Documents\\Ocean\\Conch Republic Coral Quest\\coral-reef-trends\\virtual_env\\Lib\\site-packages\\sklearn\\utils\\validation.py:2739: UserWarning: X does not have valid feature names, but RandomForestRegressor was fitted with feature names\n",
      "  warnings.warn(\n",
      "c:\\Users\\Elite\\Documents\\Ocean\\Conch Republic Coral Quest\\coral-reef-trends\\virtual_env\\Lib\\site-packages\\sklearn\\utils\\validation.py:2739: UserWarning: X does not have valid feature names, but RandomForestRegressor was fitted with feature names\n",
      "  warnings.warn(\n",
      "c:\\Users\\Elite\\Documents\\Ocean\\Conch Republic Coral Quest\\coral-reef-trends\\virtual_env\\Lib\\site-packages\\sklearn\\utils\\validation.py:2739: UserWarning: X does not have valid feature names, but RandomForestRegressor was fitted with feature names\n",
      "  warnings.warn(\n",
      "C:\\Users\\Elite\\AppData\\Local\\Temp\\ipykernel_4848\\1010118823.py:82: FutureWarning: 'Y' is deprecated and will be removed in a future version, please use 'YE' instead.\n",
      "  future_dates = pd.date_range(start=df_mean['Date'].iloc[-1], periods=6, freq='Y')[1:]\n"
     ]
    },
    {
     "name": "stdout",
     "output_type": "stream",
     "text": [
      "📊 Modeling and plotting: Octocoral\n"
     ]
    },
    {
     "name": "stderr",
     "output_type": "stream",
     "text": [
      "c:\\Users\\Elite\\Documents\\Ocean\\Conch Republic Coral Quest\\coral-reef-trends\\virtual_env\\Lib\\site-packages\\sklearn\\utils\\validation.py:2739: UserWarning: X does not have valid feature names, but RandomForestRegressor was fitted with feature names\n",
      "  warnings.warn(\n",
      "c:\\Users\\Elite\\Documents\\Ocean\\Conch Republic Coral Quest\\coral-reef-trends\\virtual_env\\Lib\\site-packages\\sklearn\\utils\\validation.py:2739: UserWarning: X does not have valid feature names, but RandomForestRegressor was fitted with feature names\n",
      "  warnings.warn(\n",
      "c:\\Users\\Elite\\Documents\\Ocean\\Conch Republic Coral Quest\\coral-reef-trends\\virtual_env\\Lib\\site-packages\\sklearn\\utils\\validation.py:2739: UserWarning: X does not have valid feature names, but RandomForestRegressor was fitted with feature names\n",
      "  warnings.warn(\n",
      "c:\\Users\\Elite\\Documents\\Ocean\\Conch Republic Coral Quest\\coral-reef-trends\\virtual_env\\Lib\\site-packages\\sklearn\\utils\\validation.py:2739: UserWarning: X does not have valid feature names, but RandomForestRegressor was fitted with feature names\n",
      "  warnings.warn(\n",
      "c:\\Users\\Elite\\Documents\\Ocean\\Conch Republic Coral Quest\\coral-reef-trends\\virtual_env\\Lib\\site-packages\\sklearn\\utils\\validation.py:2739: UserWarning: X does not have valid feature names, but RandomForestRegressor was fitted with feature names\n",
      "  warnings.warn(\n",
      "C:\\Users\\Elite\\AppData\\Local\\Temp\\ipykernel_4848\\1010118823.py:82: FutureWarning: 'Y' is deprecated and will be removed in a future version, please use 'YE' instead.\n",
      "  future_dates = pd.date_range(start=df_mean['Date'].iloc[-1], periods=6, freq='Y')[1:]\n"
     ]
    },
    {
     "name": "stdout",
     "output_type": "stream",
     "text": [
      "📊 Modeling and plotting: Porifera\n"
     ]
    },
    {
     "name": "stderr",
     "output_type": "stream",
     "text": [
      "c:\\Users\\Elite\\Documents\\Ocean\\Conch Republic Coral Quest\\coral-reef-trends\\virtual_env\\Lib\\site-packages\\sklearn\\utils\\validation.py:2739: UserWarning: X does not have valid feature names, but RandomForestRegressor was fitted with feature names\n",
      "  warnings.warn(\n",
      "c:\\Users\\Elite\\Documents\\Ocean\\Conch Republic Coral Quest\\coral-reef-trends\\virtual_env\\Lib\\site-packages\\sklearn\\utils\\validation.py:2739: UserWarning: X does not have valid feature names, but RandomForestRegressor was fitted with feature names\n",
      "  warnings.warn(\n",
      "c:\\Users\\Elite\\Documents\\Ocean\\Conch Republic Coral Quest\\coral-reef-trends\\virtual_env\\Lib\\site-packages\\sklearn\\utils\\validation.py:2739: UserWarning: X does not have valid feature names, but RandomForestRegressor was fitted with feature names\n",
      "  warnings.warn(\n",
      "c:\\Users\\Elite\\Documents\\Ocean\\Conch Republic Coral Quest\\coral-reef-trends\\virtual_env\\Lib\\site-packages\\sklearn\\utils\\validation.py:2739: UserWarning: X does not have valid feature names, but RandomForestRegressor was fitted with feature names\n",
      "  warnings.warn(\n",
      "c:\\Users\\Elite\\Documents\\Ocean\\Conch Republic Coral Quest\\coral-reef-trends\\virtual_env\\Lib\\site-packages\\sklearn\\utils\\validation.py:2739: UserWarning: X does not have valid feature names, but RandomForestRegressor was fitted with feature names\n",
      "  warnings.warn(\n",
      "C:\\Users\\Elite\\AppData\\Local\\Temp\\ipykernel_4848\\1010118823.py:82: FutureWarning: 'Y' is deprecated and will be removed in a future version, please use 'YE' instead.\n",
      "  future_dates = pd.date_range(start=df_mean['Date'].iloc[-1], periods=6, freq='Y')[1:]\n"
     ]
    },
    {
     "name": "stdout",
     "output_type": "stream",
     "text": [
      "📊 Modeling and plotting: Cyanobacteria\n"
     ]
    },
    {
     "name": "stderr",
     "output_type": "stream",
     "text": [
      "c:\\Users\\Elite\\Documents\\Ocean\\Conch Republic Coral Quest\\coral-reef-trends\\virtual_env\\Lib\\site-packages\\sklearn\\utils\\validation.py:2739: UserWarning: X does not have valid feature names, but RandomForestRegressor was fitted with feature names\n",
      "  warnings.warn(\n",
      "c:\\Users\\Elite\\Documents\\Ocean\\Conch Republic Coral Quest\\coral-reef-trends\\virtual_env\\Lib\\site-packages\\sklearn\\utils\\validation.py:2739: UserWarning: X does not have valid feature names, but RandomForestRegressor was fitted with feature names\n",
      "  warnings.warn(\n",
      "c:\\Users\\Elite\\Documents\\Ocean\\Conch Republic Coral Quest\\coral-reef-trends\\virtual_env\\Lib\\site-packages\\sklearn\\utils\\validation.py:2739: UserWarning: X does not have valid feature names, but RandomForestRegressor was fitted with feature names\n",
      "  warnings.warn(\n",
      "c:\\Users\\Elite\\Documents\\Ocean\\Conch Republic Coral Quest\\coral-reef-trends\\virtual_env\\Lib\\site-packages\\sklearn\\utils\\validation.py:2739: UserWarning: X does not have valid feature names, but RandomForestRegressor was fitted with feature names\n",
      "  warnings.warn(\n",
      "c:\\Users\\Elite\\Documents\\Ocean\\Conch Republic Coral Quest\\coral-reef-trends\\virtual_env\\Lib\\site-packages\\sklearn\\utils\\validation.py:2739: UserWarning: X does not have valid feature names, but RandomForestRegressor was fitted with feature names\n",
      "  warnings.warn(\n",
      "C:\\Users\\Elite\\AppData\\Local\\Temp\\ipykernel_4848\\1010118823.py:82: FutureWarning: 'Y' is deprecated and will be removed in a future version, please use 'YE' instead.\n",
      "  future_dates = pd.date_range(start=df_mean['Date'].iloc[-1], periods=6, freq='Y')[1:]\n"
     ]
    },
    {
     "name": "stdout",
     "output_type": "stream",
     "text": [
      "📊 Modeling and plotting: Seagrass\n"
     ]
    },
    {
     "name": "stderr",
     "output_type": "stream",
     "text": [
      "c:\\Users\\Elite\\Documents\\Ocean\\Conch Republic Coral Quest\\coral-reef-trends\\virtual_env\\Lib\\site-packages\\sklearn\\utils\\validation.py:2739: UserWarning: X does not have valid feature names, but RandomForestRegressor was fitted with feature names\n",
      "  warnings.warn(\n",
      "c:\\Users\\Elite\\Documents\\Ocean\\Conch Republic Coral Quest\\coral-reef-trends\\virtual_env\\Lib\\site-packages\\sklearn\\utils\\validation.py:2739: UserWarning: X does not have valid feature names, but RandomForestRegressor was fitted with feature names\n",
      "  warnings.warn(\n",
      "c:\\Users\\Elite\\Documents\\Ocean\\Conch Republic Coral Quest\\coral-reef-trends\\virtual_env\\Lib\\site-packages\\sklearn\\utils\\validation.py:2739: UserWarning: X does not have valid feature names, but RandomForestRegressor was fitted with feature names\n",
      "  warnings.warn(\n",
      "c:\\Users\\Elite\\Documents\\Ocean\\Conch Republic Coral Quest\\coral-reef-trends\\virtual_env\\Lib\\site-packages\\sklearn\\utils\\validation.py:2739: UserWarning: X does not have valid feature names, but RandomForestRegressor was fitted with feature names\n",
      "  warnings.warn(\n",
      "c:\\Users\\Elite\\Documents\\Ocean\\Conch Republic Coral Quest\\coral-reef-trends\\virtual_env\\Lib\\site-packages\\sklearn\\utils\\validation.py:2739: UserWarning: X does not have valid feature names, but RandomForestRegressor was fitted with feature names\n",
      "  warnings.warn(\n",
      "C:\\Users\\Elite\\AppData\\Local\\Temp\\ipykernel_4848\\1010118823.py:82: FutureWarning: 'Y' is deprecated and will be removed in a future version, please use 'YE' instead.\n",
      "  future_dates = pd.date_range(start=df_mean['Date'].iloc[-1], periods=6, freq='Y')[1:]\n"
     ]
    },
    {
     "name": "stdout",
     "output_type": "stream",
     "text": [
      "📊 Modeling and plotting: Zoanthidea\n"
     ]
    },
    {
     "name": "stderr",
     "output_type": "stream",
     "text": [
      "c:\\Users\\Elite\\Documents\\Ocean\\Conch Republic Coral Quest\\coral-reef-trends\\virtual_env\\Lib\\site-packages\\sklearn\\utils\\validation.py:2739: UserWarning: X does not have valid feature names, but RandomForestRegressor was fitted with feature names\n",
      "  warnings.warn(\n",
      "c:\\Users\\Elite\\Documents\\Ocean\\Conch Republic Coral Quest\\coral-reef-trends\\virtual_env\\Lib\\site-packages\\sklearn\\utils\\validation.py:2739: UserWarning: X does not have valid feature names, but RandomForestRegressor was fitted with feature names\n",
      "  warnings.warn(\n",
      "c:\\Users\\Elite\\Documents\\Ocean\\Conch Republic Coral Quest\\coral-reef-trends\\virtual_env\\Lib\\site-packages\\sklearn\\utils\\validation.py:2739: UserWarning: X does not have valid feature names, but RandomForestRegressor was fitted with feature names\n",
      "  warnings.warn(\n",
      "c:\\Users\\Elite\\Documents\\Ocean\\Conch Republic Coral Quest\\coral-reef-trends\\virtual_env\\Lib\\site-packages\\sklearn\\utils\\validation.py:2739: UserWarning: X does not have valid feature names, but RandomForestRegressor was fitted with feature names\n",
      "  warnings.warn(\n",
      "c:\\Users\\Elite\\Documents\\Ocean\\Conch Republic Coral Quest\\coral-reef-trends\\virtual_env\\Lib\\site-packages\\sklearn\\utils\\validation.py:2739: UserWarning: X does not have valid feature names, but RandomForestRegressor was fitted with feature names\n",
      "  warnings.warn(\n",
      "C:\\Users\\Elite\\AppData\\Local\\Temp\\ipykernel_4848\\1010118823.py:82: FutureWarning: 'Y' is deprecated and will be removed in a future version, please use 'YE' instead.\n",
      "  future_dates = pd.date_range(start=df_mean['Date'].iloc[-1], periods=6, freq='Y')[1:]\n"
     ]
    },
    {
     "name": "stdout",
     "output_type": "stream",
     "text": [
      "📊 Modeling and plotting: Urchins\n"
     ]
    },
    {
     "name": "stderr",
     "output_type": "stream",
     "text": [
      "c:\\Users\\Elite\\Documents\\Ocean\\Conch Republic Coral Quest\\coral-reef-trends\\virtual_env\\Lib\\site-packages\\sklearn\\utils\\validation.py:2739: UserWarning: X does not have valid feature names, but RandomForestRegressor was fitted with feature names\n",
      "  warnings.warn(\n",
      "c:\\Users\\Elite\\Documents\\Ocean\\Conch Republic Coral Quest\\coral-reef-trends\\virtual_env\\Lib\\site-packages\\sklearn\\utils\\validation.py:2739: UserWarning: X does not have valid feature names, but RandomForestRegressor was fitted with feature names\n",
      "  warnings.warn(\n",
      "c:\\Users\\Elite\\Documents\\Ocean\\Conch Republic Coral Quest\\coral-reef-trends\\virtual_env\\Lib\\site-packages\\sklearn\\utils\\validation.py:2739: UserWarning: X does not have valid feature names, but RandomForestRegressor was fitted with feature names\n",
      "  warnings.warn(\n",
      "c:\\Users\\Elite\\Documents\\Ocean\\Conch Republic Coral Quest\\coral-reef-trends\\virtual_env\\Lib\\site-packages\\sklearn\\utils\\validation.py:2739: UserWarning: X does not have valid feature names, but RandomForestRegressor was fitted with feature names\n",
      "  warnings.warn(\n",
      "c:\\Users\\Elite\\Documents\\Ocean\\Conch Republic Coral Quest\\coral-reef-trends\\virtual_env\\Lib\\site-packages\\sklearn\\utils\\validation.py:2739: UserWarning: X does not have valid feature names, but RandomForestRegressor was fitted with feature names\n",
      "  warnings.warn(\n",
      "C:\\Users\\Elite\\AppData\\Local\\Temp\\ipykernel_4848\\1010118823.py:82: FutureWarning: 'Y' is deprecated and will be removed in a future version, please use 'YE' instead.\n",
      "  future_dates = pd.date_range(start=df_mean['Date'].iloc[-1], periods=6, freq='Y')[1:]\n"
     ]
    },
    {
     "name": "stdout",
     "output_type": "stream",
     "text": [
      "📊 Modeling and plotting: Others\n"
     ]
    },
    {
     "name": "stderr",
     "output_type": "stream",
     "text": [
      "c:\\Users\\Elite\\Documents\\Ocean\\Conch Republic Coral Quest\\coral-reef-trends\\virtual_env\\Lib\\site-packages\\sklearn\\utils\\validation.py:2739: UserWarning: X does not have valid feature names, but RandomForestRegressor was fitted with feature names\n",
      "  warnings.warn(\n",
      "c:\\Users\\Elite\\Documents\\Ocean\\Conch Republic Coral Quest\\coral-reef-trends\\virtual_env\\Lib\\site-packages\\sklearn\\utils\\validation.py:2739: UserWarning: X does not have valid feature names, but RandomForestRegressor was fitted with feature names\n",
      "  warnings.warn(\n",
      "c:\\Users\\Elite\\Documents\\Ocean\\Conch Republic Coral Quest\\coral-reef-trends\\virtual_env\\Lib\\site-packages\\sklearn\\utils\\validation.py:2739: UserWarning: X does not have valid feature names, but RandomForestRegressor was fitted with feature names\n",
      "  warnings.warn(\n",
      "c:\\Users\\Elite\\Documents\\Ocean\\Conch Republic Coral Quest\\coral-reef-trends\\virtual_env\\Lib\\site-packages\\sklearn\\utils\\validation.py:2739: UserWarning: X does not have valid feature names, but RandomForestRegressor was fitted with feature names\n",
      "  warnings.warn(\n",
      "c:\\Users\\Elite\\Documents\\Ocean\\Conch Republic Coral Quest\\coral-reef-trends\\virtual_env\\Lib\\site-packages\\sklearn\\utils\\validation.py:2739: UserWarning: X does not have valid feature names, but RandomForestRegressor was fitted with feature names\n",
      "  warnings.warn(\n",
      "C:\\Users\\Elite\\AppData\\Local\\Temp\\ipykernel_4848\\1010118823.py:82: FutureWarning: 'Y' is deprecated and will be removed in a future version, please use 'YE' instead.\n",
      "  future_dates = pd.date_range(start=df_mean['Date'].iloc[-1], periods=6, freq='Y')[1:]\n"
     ]
    },
    {
     "name": "stdout",
     "output_type": "stream",
     "text": [
      "\n",
      "✅ Forecast CSV saved.\n",
      "📁 Plots saved to: ../forecasts\n"
     ]
    }
   ],
   "source": [
    "import pandas as pd\n",
    "import numpy as np\n",
    "import matplotlib.pyplot as plt\n",
    "import seaborn as sns\n",
    "from sklearn.ensemble import RandomForestRegressor\n",
    "from xgboost import XGBRegressor\n",
    "import os\n",
    "\n",
    "# Set up seaborn\n",
    "sns.set(style='whitegrid')\n",
    "\n",
    "# --------------------------\n",
    "# Load and preprocess data\n",
    "# --------------------------\n",
    "df = pd.read_csv('../data/processed_data/CREMP_Pcover_2023_TaxaGroups.csv', parse_dates=['Date'])\n",
    "df_mean = df.groupby('Date').mean(numeric_only=True).reset_index()\n",
    "\n",
    "# Define taxa columns\n",
    "taxa_groups = [\n",
    "    'Stony_coral', 'Macroalgae', 'Octocoral', 'Porifera',\n",
    "    'Cyanobacteria', 'Seagrass', 'Zoanthidea', 'Urchins', 'Others'\n",
    "]\n",
    "\n",
    "# --------------------------\n",
    "# Function to create lagged features\n",
    "# --------------------------\n",
    "def create_lagged_features(data, column, lags=5):\n",
    "    df_lag = data[['Date', column]].copy()\n",
    "    for i in range(1, lags+1):\n",
    "        df_lag[f'lag_{i}'] = df_lag[column].shift(i)\n",
    "    df_lag = df_lag.dropna().reset_index(drop=True)\n",
    "    return df_lag\n",
    "\n",
    "# --------------------------\n",
    "# Create folder for plots\n",
    "# --------------------------\n",
    "plot_dir = '../forecasts'\n",
    "os.makedirs(plot_dir, exist_ok=True)\n",
    "\n",
    "# --------------------------\n",
    "# Forecast storage\n",
    "# --------------------------\n",
    "forecast_all = []\n",
    "\n",
    "# --------------------------\n",
    "# Loop through taxa groups\n",
    "# --------------------------\n",
    "for taxa in taxa_groups:\n",
    "    print(f\"📊 Modeling and plotting: {taxa}\")\n",
    "\n",
    "    df_lagged = create_lagged_features(df_mean, taxa, lags=5)\n",
    "    X = df_lagged[[f'lag_{i}' for i in range(1, 6)]]\n",
    "    y = df_lagged[taxa]\n",
    "    dates = df_lagged['Date']\n",
    "\n",
    "    # Train/test split\n",
    "    X_train, y_train = X[:-5], y[:-5]\n",
    "\n",
    "    # Train models\n",
    "    rf_model = RandomForestRegressor(n_estimators=100, random_state=42)\n",
    "    rf_model.fit(X_train, y_train)\n",
    "\n",
    "    xgb_model = XGBRegressor(n_estimators=100, random_state=42)\n",
    "    xgb_model.fit(X_train, y_train)\n",
    "\n",
    "    # Predict next 5 years\n",
    "    rf_preds, xgb_preds = [], []\n",
    "    last_input_rf = X.iloc[-1].values.reshape(1, -1)\n",
    "    last_input_xgb = X.iloc[-1].values.reshape(1, -1)\n",
    "\n",
    "    for _ in range(5):\n",
    "        pred_rf = rf_model.predict(last_input_rf)[0]\n",
    "        pred_xgb = xgb_model.predict(last_input_xgb)[0]\n",
    "        rf_preds.append(pred_rf)\n",
    "        xgb_preds.append(pred_xgb)\n",
    "        last_input_rf = np.roll(last_input_rf, -1)\n",
    "        last_input_rf[0, -1] = pred_rf\n",
    "        last_input_xgb = np.roll(last_input_xgb, -1)\n",
    "        last_input_xgb[0, -1] = pred_xgb\n",
    "\n",
    "    # Build future date range\n",
    "    future_dates = pd.date_range(start=df_mean['Date'].iloc[-1], periods=6, freq='Y')[1:]\n",
    "\n",
    "    # Save forecasts\n",
    "    for i in range(5):\n",
    "        forecast_all.append({\n",
    "            'year': future_dates[i].year,\n",
    "            'taxa': taxa,\n",
    "            'model': 'RandomForest',\n",
    "            'forecast': rf_preds[i]\n",
    "        })\n",
    "        forecast_all.append({\n",
    "            'year': future_dates[i].year,\n",
    "            'taxa': taxa,\n",
    "            'model': 'XGBoost',\n",
    "            'forecast': xgb_preds[i]\n",
    "        })\n",
    "\n",
    "    # --------------------------\n",
    "    # Plot historical + forecasts\n",
    "    # --------------------------\n",
    "    plt.figure(figsize=(10, 6))\n",
    "    plt.plot(df_mean['Date'], df_mean[taxa], label='Observed', color='black')\n",
    "    plt.plot(future_dates, rf_preds, '--o', label='Random Forest Forecast', color='blue')\n",
    "    plt.plot(future_dates, xgb_preds, '--o', label='XGBoost Forecast', color='green')\n",
    "    plt.title(f\"{taxa.replace('_', ' ').title()} Forecast (5-Year)\")\n",
    "    plt.xlabel(\"Year\")\n",
    "    plt.ylabel(\"Percent Cover\")\n",
    "    plt.legend()\n",
    "    plt.tight_layout()\n",
    "\n",
    "    # Save plot\n",
    "    plot_path = os.path.join(plot_dir, f\"{taxa}_forecast.png\")\n",
    "    plt.savefig(plot_path)\n",
    "    plt.close()\n",
    "\n",
    "# --------------------------\n",
    "# Save forecast CSV\n",
    "# --------------------------\n",
    "forecast_df = pd.DataFrame(forecast_all)\n",
    "forecast_df.to_csv('../forecasts/coral_taxa_forecasts_regression_models.csv', index=False)\n",
    "\n",
    "print(f\"\\n✅ Forecast CSV saved.\")\n",
    "print(f\"📁 Plots saved to: {plot_dir}\")\n"
   ]
  },
  {
   "cell_type": "code",
   "execution_count": null,
   "id": "46f96fd4",
   "metadata": {},
   "outputs": [],
   "source": []
  }
 ],
 "metadata": {
  "kernelspec": {
   "display_name": "virtual_env",
   "language": "python",
   "name": "python3"
  },
  "language_info": {
   "codemirror_mode": {
    "name": "ipython",
    "version": 3
   },
   "file_extension": ".py",
   "mimetype": "text/x-python",
   "name": "python",
   "nbconvert_exporter": "python",
   "pygments_lexer": "ipython3",
   "version": "3.12.4"
  }
 },
 "nbformat": 4,
 "nbformat_minor": 5
}
